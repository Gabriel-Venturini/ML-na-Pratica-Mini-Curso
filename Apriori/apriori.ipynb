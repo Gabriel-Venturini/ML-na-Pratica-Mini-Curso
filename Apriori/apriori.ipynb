{
 "cells": [
  {
   "cell_type": "code",
   "execution_count": 1,
   "metadata": {},
   "outputs": [],
   "source": [
    "import pandas as pd"
   ]
  },
  {
   "cell_type": "code",
   "execution_count": 2,
   "metadata": {},
   "outputs": [],
   "source": [
    "base_transacional = pd.read_csv(\"lista_compras.csv\")"
   ]
  },
  {
   "cell_type": "code",
   "execution_count": 3,
   "metadata": {},
   "outputs": [
    {
     "data": {
      "text/plain": [
       "(7501, 120)"
      ]
     },
     "execution_count": 3,
     "metadata": {},
     "output_type": "execute_result"
    }
   ],
   "source": [
    "base_transacional.shape"
   ]
  },
  {
   "cell_type": "code",
   "execution_count": 4,
   "metadata": {},
   "outputs": [
    {
     "data": {
      "text/html": [
       "<div>\n",
       "<style scoped>\n",
       "    .dataframe tbody tr th:only-of-type {\n",
       "        vertical-align: middle;\n",
       "    }\n",
       "\n",
       "    .dataframe tbody tr th {\n",
       "        vertical-align: top;\n",
       "    }\n",
       "\n",
       "    .dataframe thead th {\n",
       "        text-align: right;\n",
       "    }\n",
       "</style>\n",
       "<table border=\"1\" class=\"dataframe\">\n",
       "  <thead>\n",
       "    <tr style=\"text-align: right;\">\n",
       "      <th></th>\n",
       "      <th>almonds</th>\n",
       "      <th>antioxydant juice</th>\n",
       "      <th>asparagus</th>\n",
       "      <th>avocado</th>\n",
       "      <th>babies food</th>\n",
       "      <th>bacon</th>\n",
       "      <th>barbecue sauce</th>\n",
       "      <th>black tea</th>\n",
       "      <th>blueberries</th>\n",
       "      <th>body spray</th>\n",
       "      <th>...</th>\n",
       "      <th>turkey</th>\n",
       "      <th>vegetables mix</th>\n",
       "      <th>water spray</th>\n",
       "      <th>white wine</th>\n",
       "      <th>whole weat flour</th>\n",
       "      <th>whole wheat pasta</th>\n",
       "      <th>whole wheat rice</th>\n",
       "      <th>yams</th>\n",
       "      <th>yogurt cake</th>\n",
       "      <th>zucchini</th>\n",
       "    </tr>\n",
       "  </thead>\n",
       "  <tbody>\n",
       "    <tr>\n",
       "      <th>0</th>\n",
       "      <td>1.0</td>\n",
       "      <td>1.0</td>\n",
       "      <td>0.0</td>\n",
       "      <td>1.0</td>\n",
       "      <td>0.0</td>\n",
       "      <td>0.0</td>\n",
       "      <td>0.0</td>\n",
       "      <td>0.0</td>\n",
       "      <td>0.0</td>\n",
       "      <td>0.0</td>\n",
       "      <td>...</td>\n",
       "      <td>0.0</td>\n",
       "      <td>1.0</td>\n",
       "      <td>0.0</td>\n",
       "      <td>0.0</td>\n",
       "      <td>1.0</td>\n",
       "      <td>0.0</td>\n",
       "      <td>0.0</td>\n",
       "      <td>1.0</td>\n",
       "      <td>0.0</td>\n",
       "      <td>0.0</td>\n",
       "    </tr>\n",
       "    <tr>\n",
       "      <th>1</th>\n",
       "      <td>0.0</td>\n",
       "      <td>0.0</td>\n",
       "      <td>0.0</td>\n",
       "      <td>0.0</td>\n",
       "      <td>0.0</td>\n",
       "      <td>0.0</td>\n",
       "      <td>0.0</td>\n",
       "      <td>0.0</td>\n",
       "      <td>0.0</td>\n",
       "      <td>0.0</td>\n",
       "      <td>...</td>\n",
       "      <td>0.0</td>\n",
       "      <td>0.0</td>\n",
       "      <td>0.0</td>\n",
       "      <td>0.0</td>\n",
       "      <td>0.0</td>\n",
       "      <td>0.0</td>\n",
       "      <td>0.0</td>\n",
       "      <td>0.0</td>\n",
       "      <td>0.0</td>\n",
       "      <td>0.0</td>\n",
       "    </tr>\n",
       "    <tr>\n",
       "      <th>2</th>\n",
       "      <td>0.0</td>\n",
       "      <td>0.0</td>\n",
       "      <td>0.0</td>\n",
       "      <td>0.0</td>\n",
       "      <td>0.0</td>\n",
       "      <td>0.0</td>\n",
       "      <td>0.0</td>\n",
       "      <td>0.0</td>\n",
       "      <td>0.0</td>\n",
       "      <td>0.0</td>\n",
       "      <td>...</td>\n",
       "      <td>0.0</td>\n",
       "      <td>0.0</td>\n",
       "      <td>0.0</td>\n",
       "      <td>0.0</td>\n",
       "      <td>0.0</td>\n",
       "      <td>0.0</td>\n",
       "      <td>0.0</td>\n",
       "      <td>0.0</td>\n",
       "      <td>0.0</td>\n",
       "      <td>0.0</td>\n",
       "    </tr>\n",
       "    <tr>\n",
       "      <th>3</th>\n",
       "      <td>0.0</td>\n",
       "      <td>0.0</td>\n",
       "      <td>0.0</td>\n",
       "      <td>1.0</td>\n",
       "      <td>0.0</td>\n",
       "      <td>0.0</td>\n",
       "      <td>0.0</td>\n",
       "      <td>0.0</td>\n",
       "      <td>0.0</td>\n",
       "      <td>0.0</td>\n",
       "      <td>...</td>\n",
       "      <td>1.0</td>\n",
       "      <td>0.0</td>\n",
       "      <td>0.0</td>\n",
       "      <td>0.0</td>\n",
       "      <td>0.0</td>\n",
       "      <td>0.0</td>\n",
       "      <td>0.0</td>\n",
       "      <td>0.0</td>\n",
       "      <td>0.0</td>\n",
       "      <td>0.0</td>\n",
       "    </tr>\n",
       "    <tr>\n",
       "      <th>4</th>\n",
       "      <td>0.0</td>\n",
       "      <td>0.0</td>\n",
       "      <td>0.0</td>\n",
       "      <td>0.0</td>\n",
       "      <td>0.0</td>\n",
       "      <td>0.0</td>\n",
       "      <td>0.0</td>\n",
       "      <td>0.0</td>\n",
       "      <td>0.0</td>\n",
       "      <td>0.0</td>\n",
       "      <td>...</td>\n",
       "      <td>0.0</td>\n",
       "      <td>0.0</td>\n",
       "      <td>0.0</td>\n",
       "      <td>0.0</td>\n",
       "      <td>0.0</td>\n",
       "      <td>0.0</td>\n",
       "      <td>1.0</td>\n",
       "      <td>0.0</td>\n",
       "      <td>0.0</td>\n",
       "      <td>0.0</td>\n",
       "    </tr>\n",
       "  </tbody>\n",
       "</table>\n",
       "<p>5 rows × 120 columns</p>\n",
       "</div>"
      ],
      "text/plain": [
       "   almonds  antioxydant juice  asparagus  avocado  babies food  bacon  \\\n",
       "0      1.0                1.0        0.0      1.0          0.0    0.0   \n",
       "1      0.0                0.0        0.0      0.0          0.0    0.0   \n",
       "2      0.0                0.0        0.0      0.0          0.0    0.0   \n",
       "3      0.0                0.0        0.0      1.0          0.0    0.0   \n",
       "4      0.0                0.0        0.0      0.0          0.0    0.0   \n",
       "\n",
       "   barbecue sauce  black tea  blueberries  body spray  ...  turkey  \\\n",
       "0             0.0        0.0          0.0         0.0  ...     0.0   \n",
       "1             0.0        0.0          0.0         0.0  ...     0.0   \n",
       "2             0.0        0.0          0.0         0.0  ...     0.0   \n",
       "3             0.0        0.0          0.0         0.0  ...     1.0   \n",
       "4             0.0        0.0          0.0         0.0  ...     0.0   \n",
       "\n",
       "   vegetables mix  water spray  white wine  whole weat flour  \\\n",
       "0             1.0          0.0         0.0               1.0   \n",
       "1             0.0          0.0         0.0               0.0   \n",
       "2             0.0          0.0         0.0               0.0   \n",
       "3             0.0          0.0         0.0               0.0   \n",
       "4             0.0          0.0         0.0               0.0   \n",
       "\n",
       "   whole wheat pasta  whole wheat rice  yams  yogurt cake  zucchini  \n",
       "0                0.0               0.0   1.0          0.0       0.0  \n",
       "1                0.0               0.0   0.0          0.0       0.0  \n",
       "2                0.0               0.0   0.0          0.0       0.0  \n",
       "3                0.0               0.0   0.0          0.0       0.0  \n",
       "4                0.0               1.0   0.0          0.0       0.0  \n",
       "\n",
       "[5 rows x 120 columns]"
      ]
     },
     "execution_count": 4,
     "metadata": {},
     "output_type": "execute_result"
    }
   ],
   "source": [
    "base_transacional.head()"
   ]
  },
  {
   "cell_type": "code",
   "execution_count": 5,
   "metadata": {},
   "outputs": [
    {
     "data": {
      "text/plain": [
       "almonds              153.0\n",
       "antioxydant juice     67.0\n",
       "asparagus             36.0\n",
       "avocado              250.0\n",
       "babies food           34.0\n",
       "                     ...  \n",
       "whole wheat pasta    221.0\n",
       "whole wheat rice     439.0\n",
       "yams                  86.0\n",
       "yogurt cake          205.0\n",
       "zucchini              71.0\n",
       "Length: 120, dtype: float64"
      ]
     },
     "execution_count": 5,
     "metadata": {},
     "output_type": "execute_result"
    }
   ],
   "source": [
    "base_transacional.sum()"
   ]
  },
  {
   "cell_type": "code",
   "execution_count": 6,
   "metadata": {},
   "outputs": [],
   "source": [
    "sup = base_transacional.sum()/len(base_transacional)"
   ]
  },
  {
   "cell_type": "code",
   "execution_count": 7,
   "metadata": {},
   "outputs": [
    {
     "data": {
      "text/plain": [
       "almonds              0.020397\n",
       "antioxydant juice    0.008932\n",
       "asparagus            0.004799\n",
       "avocado              0.033329\n",
       "babies food          0.004533\n",
       "                       ...   \n",
       "whole wheat pasta    0.029463\n",
       "whole wheat rice     0.058526\n",
       "yams                 0.011465\n",
       "yogurt cake          0.027330\n",
       "zucchini             0.009465\n",
       "Length: 120, dtype: float64"
      ]
     },
     "execution_count": 7,
     "metadata": {},
     "output_type": "execute_result"
    }
   ],
   "source": [
    "sup"
   ]
  },
  {
   "cell_type": "code",
   "execution_count": 8,
   "metadata": {},
   "outputs": [
    {
     "data": {
      "text/plain": [
       "almonds              False\n",
       "antioxydant juice    False\n",
       "asparagus            False\n",
       "avocado              False\n",
       "babies food          False\n",
       "                     ...  \n",
       "whole wheat pasta    False\n",
       "whole wheat rice      True\n",
       "yams                 False\n",
       "yogurt cake          False\n",
       "zucchini             False\n",
       "Length: 120, dtype: bool"
      ]
     },
     "execution_count": 8,
     "metadata": {},
     "output_type": "execute_result"
    }
   ],
   "source": [
    "sup >= 0.05"
   ]
  },
  {
   "cell_type": "code",
   "execution_count": 9,
   "metadata": {},
   "outputs": [],
   "source": [
    "sup_itens = sup[sup >= 0.05]"
   ]
  },
  {
   "cell_type": "code",
   "execution_count": 10,
   "metadata": {},
   "outputs": [
    {
     "data": {
      "text/plain": [
       "burgers              0.087188\n",
       "cake                 0.081056\n",
       "chicken              0.059992\n",
       "chocolate            0.163978\n",
       "cookies              0.080389\n",
       "cooking oil          0.051060\n",
       "eggs                 0.179709\n",
       "escalope             0.079323\n",
       "french fries         0.170911\n",
       "frozen smoothie      0.063325\n",
       "frozen vegetables    0.095321\n",
       "grated cheese        0.052393\n",
       "green tea            0.132116\n",
       "ground beef          0.098254\n",
       "low fat yogurt       0.076523\n",
       "milk                 0.129583\n",
       "mineral water        0.238368\n",
       "olive oil            0.065858\n",
       "pancakes             0.095054\n",
       "shrimp               0.071457\n",
       "soup                 0.050527\n",
       "spaghetti            0.174110\n",
       "tomatoes             0.068391\n",
       "turkey               0.062525\n",
       "whole wheat rice     0.058526\n",
       "dtype: float64"
      ]
     },
     "execution_count": 10,
     "metadata": {},
     "output_type": "execute_result"
    }
   ],
   "source": [
    "sup_itens"
   ]
  },
  {
   "cell_type": "code",
   "execution_count": 11,
   "metadata": {},
   "outputs": [],
   "source": [
    "def regras_tam_2(base, itens, taxa_sup, taxa_conf):\n",
    "    for i, item in enumerate(itens):\n",
    "        for j in range(i+1, len(itens)):\n",
    "            count_regra = len(base[(base[item]==1) & \n",
    "                               (base[itens[j]]==1)])\n",
    "            suporte = count_regra/len(base)\n",
    "            if suporte >= taxa_sup:\n",
    "                count_a = len(base[base[item]==1])\n",
    "                confianca = count_regra/count_a\n",
    "                if confianca >= taxa_conf:\n",
    "                    print(item, \"-->\", itens[j],\n",
    "                         \"| suporte: \", suporte,\n",
    "                         \"| confianca: \", confianca)"
   ]
  },
  {
   "cell_type": "code",
   "execution_count": 12,
   "metadata": {},
   "outputs": [
    {
     "name": "stdout",
     "output_type": "stream",
     "text": [
      "ground beef --> mineral water | suporte:  0.040927876283162246 | confianca:  0.41655359565807326\n"
     ]
    }
   ],
   "source": [
    "regras_tam_2(base_transacional, sup_itens.index, 0.02, 0.4)"
   ]
  },
  {
   "cell_type": "code",
   "execution_count": null,
   "metadata": {},
   "outputs": [],
   "source": []
  }
 ],
 "metadata": {
  "kernelspec": {
   "display_name": "Python 3",
   "language": "python",
   "name": "python3"
  },
  "language_info": {
   "codemirror_mode": {
    "name": "ipython",
    "version": 3
   },
   "file_extension": ".py",
   "mimetype": "text/x-python",
   "name": "python",
   "nbconvert_exporter": "python",
   "pygments_lexer": "ipython3",
   "version": "3.11.9"
  }
 },
 "nbformat": 4,
 "nbformat_minor": 2
}
